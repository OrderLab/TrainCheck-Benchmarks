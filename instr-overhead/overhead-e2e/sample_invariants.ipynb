{
 "cells": [
  {
   "cell_type": "code",
   "execution_count": null,
   "metadata": {},
   "outputs": [],
   "source": [
    "# let's sample 100 high-level invariants"
   ]
  }
 ],
 "metadata": {
  "kernelspec": {
   "display_name": "ml-daikon-torch222",
   "language": "python",
   "name": "python3"
  },
  "language_info": {
   "name": "python",
   "version": "3.10.14"
  }
 },
 "nbformat": 4,
 "nbformat_minor": 2
}
